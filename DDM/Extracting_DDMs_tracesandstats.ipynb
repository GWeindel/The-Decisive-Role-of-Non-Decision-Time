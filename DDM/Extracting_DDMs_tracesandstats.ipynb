{
 "cells": [
  {
   "cell_type": "code",
   "execution_count": 1,
   "metadata": {},
   "outputs": [
    {
     "name": "stderr",
     "output_type": "stream",
     "text": [
      "/home/gabriel/anaconda3/envs/hddm/lib/python2.7/site-packages/IPython/parallel.py:13: ShimWarning: The `IPython.parallel` package has been deprecated since IPython 4.0. You should import from ipyparallel instead.\n",
      "  \"You should import from ipyparallel instead.\", ShimWarning)\n"
     ]
    }
   ],
   "source": [
    "# Python 2.7\n",
    "import hddm\n",
    "import os\n",
    "import kabuki\n",
    "import pandas as pd"
   ]
  },
  {
   "cell_type": "code",
   "execution_count": null,
   "metadata": {},
   "outputs": [],
   "source": [
    "RTfit = []\n",
    "for f in os.listdir(\"DDM/Fits/\"):\n",
    "    if \"RT_M13\" in f:\n",
    "        print(f)\n",
    "        RTfit.append(hddm.load(\"DDM/Fits/%s\"%f))\n",
    "RTfit = kabuki.utils.concat_models(RTfit)"
   ]
  },
  {
   "cell_type": "code",
   "execution_count": null,
   "metadata": {},
   "outputs": [],
   "source": [
    "RTstats = RTfit.gen_stats()\n",
    "RTtraces = RTfit.get_traces()\n",
    "RTstats.to_csv('RT_M13_stats.csv')\n",
    "RTtraces.to_csv('RT_M13_traces.csv')"
   ]
  },
  {
   "cell_type": "markdown",
   "metadata": {},
   "source": [
    "reg"
   ]
  },
  {
   "cell_type": "code",
   "execution_count": null,
   "metadata": {},
   "outputs": [],
   "source": [
    "RTfit = []\n",
    "for f in os.listdir(\"DDM/Fits/\"):\n",
    "    if \"RT_reg\" in f :\n",
    "        print(f)\n",
    "        RTfit.append(hddm.load(\"DDM/Fits/%s\"%f))\n",
    "\n",
    "RTfit = kabuki.utils.concat_models(RTfit)"
   ]
  },
  {
   "cell_type": "code",
   "execution_count": 3,
   "metadata": {},
   "outputs": [],
   "source": [
    "RTstats = RTfit.gen_stats()\n",
    "RTtraces = RTfit.get_traces()\n",
    "RTstats.to_csv('DDM/RT_reg_stats.csv')\n",
    "RTtraces.to_csv('DDM/RT_reg_traces.csv')"
   ]
  },
  {
   "cell_type": "code",
   "execution_count": null,
   "metadata": {},
   "outputs": [],
   "source": [
    "PMTfit = []\n",
    "for f in os.listdir(\"DDM/Fits/\"):\n",
    "    if \"PMT_M13\" in f:\n",
    "        print(f)\n",
    "        PMTfit.append(hddm.load(\"DDM/Fits/%s\"%f))\n",
    "PMTfit = kabuki.utils.concat_models(PMTfit)"
   ]
  },
  {
   "cell_type": "code",
   "execution_count": null,
   "metadata": {},
   "outputs": [],
   "source": [
    "PMTstats = PMTfit.gen_stats()\n",
    "PMTtraces = PMTfit.get_traces()\n",
    "PMTstats.to_csv('PMT_M13_stats.csv')\n",
    "PMTtraces.to_csv('PMT_M13_traces.csv')"
   ]
  },
  {
   "cell_type": "markdown",
   "metadata": {},
   "source": [
    "reg"
   ]
  },
  {
   "cell_type": "code",
   "execution_count": null,
   "metadata": {},
   "outputs": [],
   "source": [
    "PMTfit = []\n",
    "for f in os.listdir(\"DDM/Fits/\"):\n",
    "    if \"PMT_reg\" in f :\n",
    "        print(f)\n",
    "        PMTfit.append(hddm.load(\"DDM/Fits/%s\"%f))\n",
    "\n",
    "PMTfit = kabuki.utils.concat_models(PMTfit)"
   ]
  },
  {
   "cell_type": "code",
   "execution_count": 3,
   "metadata": {},
   "outputs": [],
   "source": [
    "PMTstats = PMTfit.gen_stats()\n",
    "PMTtraces = PMTfit.get_traces()\n",
    "PMTstats.to_csv('DDM/PMT_reg_stats.csv')\n",
    "PMTtraces.to_csv('DDM/PMt_reg_traces.csv')"
   ]
  },
  {
   "cell_type": "code",
   "execution_count": null,
   "metadata": {},
   "outputs": [],
   "source": []
  }
 ],
 "metadata": {
  "kernelspec": {
   "display_name": "Python 3",
   "language": "python",
   "name": "python3"
  },
  "language_info": {
   "codemirror_mode": {
    "name": "ipython",
    "version": 3
   },
   "file_extension": ".py",
   "mimetype": "text/x-python",
   "name": "python",
   "nbconvert_exporter": "python",
   "pygments_lexer": "ipython3",
   "version": "3.8.5"
  }
 },
 "nbformat": 4,
 "nbformat_minor": 4
}
